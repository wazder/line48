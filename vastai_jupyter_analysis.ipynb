{
 "cells": [
  {
   "cell_type": "markdown",
   "metadata": {},
   "source": [
    "# LineLogic Video Analysis on VastAI\n",
    "Bu notebook VastAI'da RTX 4090 ile video analizi yapmak için hazırlanmıştır."
   ]
  },
  {
   "cell_type": "markdown",
   "metadata": {},
   "source": [
    "## 1. Kurulum ve Bağımlılıklar"
   ]
  },
  {
   "cell_type": "code",
   "execution_count": null,
   "metadata": {},
   "outputs": [],
   "source": [
    "# Sistem bilgilerini kontrol et\n",
    "!nvidia-smi\n",
    "!python --version\n",
    "!pwd"
   ]
  },
  {
   "cell_type": "code",
   "execution_count": null,
   "metadata": {},
   "outputs": [],
   "source": [
    "# Gerekli paketleri yükle\n",
    "!pip install gdown ultralytics supervision opencv-python numpy torch torchvision"
   ]
  },
  {
   "cell_type": "code",
   "execution_count": null,
   "metadata": {},
   "outputs": [],
   "source": [
    "# PyTorch CUDA durumunu kontrol et\n",
    "import torch\n",
    "print(f\"CUDA available: {torch.cuda.is_available()}\")\n",
    "print(f\"CUDA version: {torch.version.cuda}\")\n",
    "print(f\"GPU count: {torch.cuda.device_count()}\")\n",
    "if torch.cuda.is_available():\n",
    "    print(f\"GPU name: {torch.cuda.get_device_name(0)}\")\n",
    "    print(f\"GPU memory: {torch.cuda.get_device_properties(0).total_memory / 1024**3:.1f} GB\")"
   ]
  },
  {
   "cell_type": "markdown",
   "metadata": {},
   "source": [
    "## 2. Proje Kurulumu"
   ]
  },
  {
   "cell_type": "code",
   "execution_count": null,
   "metadata": {},
   "outputs": [],
   "source": [
    "# Çalışma dizinini ayarla\n",
    "import os\n",
    "os.chdir('/workspace')\n",
    "\n",
    "# Proje klonla (eğer yoksa)\n",
    "if not os.path.exists('line48'):\n",
    "    !git clone https://github.com/your-username/line48.git\n",
    "    \n",
    "os.chdir('/workspace/line48')\n",
    "!pwd\n",
    "!ls -la"
   ]
  },
  {
   "cell_type": "code",
   "execution_count": null,
   "metadata": {},
   "outputs": [],
   "source": [
    "# Gerekli dizinleri oluştur\n",
    "!mkdir -p videos outputs logs models\n",
    "!ls -la"
   ]
  },
  {
   "cell_type": "markdown",
   "metadata": {},
   "source": [
    "## 3. Google Drive'dan Video İndirme"
   ]
  },
  {
   "cell_type": "code",
   "execution_count": null,
   "metadata": {},
   "outputs": [],
   "source": [
    "# Google Drive dosya ID'sini çıkar\n",
    "drive_url = \"https://drive.google.com/file/d/1OYdAf3OMYIFLnGAi8Gx9an_xv3BulPpN/view?usp=share_link\"\n",
    "file_id = \"1OYdAf3OMYIFLnGAi8Gx9an_xv3BulPpN\"\n",
    "\n",
    "print(f\"Dosya ID: {file_id}\")"
   ]
  },
  {
   "cell_type": "code",
   "execution_count": null,
   "metadata": {},
   "outputs": [],
   "source": [
    "# gdown ile videoyu indir\n",
    "import gdown\n",
    "\n",
    "# Video dosyasını videos dizinine indir\n",
    "output_path = \"videos/input_video.mp4\"\n",
    "gdown.download(f\"https://drive.google.com/uc?id={file_id}\", output_path, quiet=False)\n",
    "\n",
    "# Dosya boyutunu kontrol et\n",
    "import os\n",
    "if os.path.exists(output_path):\n",
    "    file_size = os.path.getsize(output_path) / (1024*1024)  # MB\n",
    "    print(f\"Video indirildi: {output_path}\")\n",
    "    print(f\"Dosya boyutu: {file_size:.1f} MB\")\n",
    "else:\n",
    "    print(\"Video indirilemedi!\")"
   ]
  },
  {
   "cell_type": "markdown",
   "metadata": {},
   "source": [
    "## 4. Video Bilgilerini Kontrol Et"
   ]
  },
  {
   "cell_type": "code",
   "execution_count": null,
   "metadata": {},
   "outputs": [],
   "source": [
    "import cv2\n",
    "\n",
    "# Video bilgilerini al\n",
    "video_path = \"videos/input_video.mp4\"\n",
    "cap = cv2.VideoCapture(video_path)\n",
    "\n",
    "if cap.isOpened():\n",
    "    fps = cap.get(cv2.CAP_PROP_FPS)\n",
    "    frame_count = int(cap.get(cv2.CAP_PROP_FRAME_COUNT))\n",
    "    width = int(cap.get(cv2.CAP_PROP_FRAME_WIDTH))\n",
    "    height = int(cap.get(cv2.CAP_PROP_FRAME_HEIGHT))\n",
    "    duration = frame_count / fps\n",
    "    \n",
    "    print(f\"Video Bilgileri:\")\n",
    "    print(f\"  Çözünürlük: {width}x{height}\")\n",
    "    print(f\"  FPS: {fps}\")\n",
    "    print(f\"  Frame sayısı: {frame_count}\")\n",
    "    print(f\"  Süre: {duration:.1f} saniye\")\n",
    "    \n",
    "    cap.release()\n",
    "else:\n",
    "    print(\"Video açılamadı!\")"
   ]
  },
  {
   "cell_type": "markdown",
   "metadata": {},
   "source": [
    "## 5. YOLO Modelini Hazırla"
   ]
  },
  {
   "cell_type": "code",
   "execution_count": null,
   "metadata": {},
   "outputs": [],
   "source": [
    "# YOLO modelini indir ve test et\n",
    "from ultralytics import YOLO\n",
    "\n",
    "# Model dosyasını indir (ilk seferde otomatik indirilir)\n",
    "model = YOLO('yolo11n.pt')  # Nano model (hızlı)\n",
    "# model = YOLO('yolo11s.pt')  # Small model (daha iyi accuracy)\n",
    "# model = YOLO('yolo11m.pt')  # Medium model (RTX 4090 için uygun)\n",
    "\n",
    "print(f\"Model yüklendi: {model.model}\")\n",
    "print(f\"Model device: {model.device}\")"
   ]
  },
  {
   "cell_type": "markdown",
   "metadata": {},
   "source": [
    "## 6. LineLogic Konfigürasyonu"
   ]
  },
  {
   "cell_type": "code",
   "execution_count": null,
   "metadata": {},
   "outputs": [],
   "source": [
    "# src dizinine geç ve modülleri import et\n",
    "os.chdir('/workspace/line48/src')\n",
    "\n",
    "# Python path'e ekle\n",
    "import sys\n",
    "sys.path.append('/workspace/line48/src')\n",
    "\n",
    "# Ana modülleri import et\n",
    "try:\n",
    "    from run_analysis import run_analysis\n",
    "    from utils import load_model\n",
    "    import config\n",
    "    print(\"Modüller başarıyla yüklendi\")\nexcept ImportError as e:\n",
    "    print(f\"Modül import hatası: {e}\")\n",
    "    print(\"Manuel kurulum gerekebilir\")"
   ]
  },
  {
   "cell_type": "markdown",
   "metadata": {},
   "source": [
    "## 7. Video Analizi Çalıştır"
   ]
  },
  {
   "cell_type": "code",
   "execution_count": null,
   "metadata": {},
   "outputs": [],
   "source": [
    "# Video analizi parametreleri\n",
    "video_path = \"../videos/input_video.mp4\"\n",
    "\n",
    "# Analiz parametreleri (RTX 4090 için optimize)\n",
    "analysis_params = {\n",
    "    'confidence': 0.25,     # YOLO confidence threshold\n",
    "    'iou': 0.45,           # NMS IoU threshold  \n",
    "    'imgsz': 1280,         # Input image size (4090 için yüksek)\n",
    "    'device': 'cuda:0',    # GPU kullan\n",
    "    'verbose': True\n",
    "}\n",
    "\n",
    "print(f\"Analiz başlatılıyor...\")\n",
    "print(f\"Video: {video_path}\")\n",
    "print(f\"Parametreler: {analysis_params}\")"
   ]
  },
  {
   "cell_type": "code",
   "execution_count": null,
   "metadata": {},
   "outputs": [],
   "source": [
    "# Ana analizi çalıştır\n",
    "try:\n",
    "    # run_analysis fonksiyonunu çağır\n",
    "    result = run_analysis(\n",
    "        source_video_path=video_path,\n",
    "        use_frame_logic=True,  # Frame-based validation kullan\n",
    "        **analysis_params\n",
    "    )\n",
    "    print(\"Analiz tamamlandı!\")\n",
    "    print(f\"Sonuç: {result}\")\n",
    "    \nexcept Exception as e:\n",
    "    print(f\"Analiz hatası: {e}\")\n",
    "    # Alternatif: Manuel command line çalıştır\n",
    "    print(\"Manuel command line ile deneniyor...\")\n",
    "    !python run_analysis.py --video \"../videos/input_video.mp4\" --frame-logic --confidence 0.25 --iou 0.45 --imgsz 1280"
   ]
  },
  {
   "cell_type": "markdown",
   "metadata": {},
   "source": [
    "## 8. Sonuçları Kontrol Et"
   ]
  },
  {
   "cell_type": "code",
   "execution_count": null,
   "metadata": {},
   "outputs": [],
   "source": [
    "# Output dosyalarını listele\n",
    "!ls -la ../outputs/\n",
    "print(\"\\n\" + \"=\"*50)\n",
    "!ls -la ../logs/"
   ]
  },
  {
   "cell_type": "code",
   "execution_count": null,
   "metadata": {},
   "outputs": [],
   "source": [
    "# Log dosyalarını oku ve analiz et\n",
    "import pandas as pd\n",
    "import glob\n",
    "\n",
    "# En son oluşturulan log dosyasını bul\n",
    "log_files = glob.glob('../logs/*_results_*.csv')\n",
    "if log_files:\n",
    "    latest_log = max(log_files, key=os.path.getctime)\n",
    "    print(f\"Son results dosyası: {latest_log}\")\n",
    "    \n",
    "    # Sonuçları oku\n",
    "    try:\n",
    "        df = pd.read_csv(latest_log)\n",
    "        print(f\"\\nSonuç özeti:\")\n",
    "        print(df.head())\n",
    "        \n",
    "        # Temel istatistikleri göster\n",
    "        if 'class' in df.columns and 'count' in df.columns:\n",
    "            print(f\"\\nSınıf bazında sayımlar:\")\n",
    "            class_counts = df.groupby('class')['count'].sum()\n",
    "            print(class_counts)\n",
    "            \n",
    "    except Exception as e:\n",
    "        print(f\"Log dosyası okuma hatası: {e}\")\n",
    "else:\n",
    "    print(\"Log dosyası bulunamadı\")"
   ]
  },
  {
   "cell_type": "markdown",
   "metadata": {},
   "source": [
    "## 9. GPU Performans İzleme"
   ]
  },
  {
   "cell_type": "code",
   "execution_count": null,
   "metadata": {},
   "outputs": [],
   "source": [
    "# GPU kullanımını kontrol et\n",
    "!nvidia-smi --query-gpu=utilization.gpu,memory.used,memory.total,temperature.gpu --format=csv"
   ]
  },
  {
   "cell_type": "code",
   "execution_count": null,
   "metadata": {},
   "outputs": [],
   "source": [
    "# PyTorch memory usage\n",
    "if torch.cuda.is_available():\n",
    "    allocated = torch.cuda.memory_allocated(0) / 1024**3\n",
    "    cached = torch.cuda.memory_reserved(0) / 1024**3\n",
    "    print(f\"GPU Memory - Allocated: {allocated:.2f} GB, Cached: {cached:.2f} GB\")\n",
    "    \n",
    "    # Memory temizle\n",
    "    torch.cuda.empty_cache()\n",
    "    print(\"GPU cache temizlendi\")"
   ]
  },
  {
   "cell_type": "markdown",
   "metadata": {},
   "source": [
    "## 10. Sonuçları İndir"
   ]
  },
  {
   "cell_type": "code",
   "execution_count": null,
   "metadata": {},
   "outputs": [],
   "source": [
    "# Sonuç dosyalarını zip'le\n",
    "from datetime import datetime\n",
    "timestamp = datetime.now().strftime(\"%Y%m%d_%H%M%S\")\n",
    "\n",
    "!cd /workspace/line48 && zip -r results_{timestamp}.zip outputs/ logs/\n",
    "print(f\"Sonuçlar ziplenди: results_{timestamp}.zip\")\n",
    "\n",
    "# Dosya boyutunu göster\n",
    "!ls -lh /workspace/line48/results_{timestamp}.zip"
   ]
  }
 ],
 "metadata": {
  "kernelspec": {
   "display_name": "Python 3",
   "language": "python",
   "name": "python3"
  },
  "language_info": {
   "codemirror_mode": {
    "name": "ipython",
    "version": 3
   },
   "file_extension": ".py",
   "mimetype": "text/x-python",
   "name": "python",
   "nbconvert_exporter": "python",
   "pygments_lexer": "ipython3",
   "version": "3.8.10"
  }
 },
 "nbformat": 4,
 "nbformat_minor": 4
}