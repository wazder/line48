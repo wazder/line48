{
 "cells": [
  {
   "cell_type": "markdown",
   "metadata": {},
   "source": [
    "# YOLO vs SAM Karşılaştırmalı Analiz\n",
    "Bu notebook kısa video ile YOLO ve SAM analizlerini karşılaştırır."
   ]
  },
  {
   "cell_type": "markdown",
   "metadata": {},
   "source": [
    "## 1. Sistem Hazırlığı ve Kontrol"
   ]
  },
  {
   "cell_type": "code",
   "execution_count": null,
   "metadata": {},
   "outputs": [],
   "source": [
    "# Sistem kontrolü\n",
    "import os\n",
    "import sys\n",
    "import subprocess\n",
    "import time\n",
    "from datetime import datetime\n",
    "\n",
    "print(f\"🖥️  Çalışma dizini: {os.getcwd()}\")\n",
    "print(f\"🐍 Python versiyonu: {sys.version}\")\n",
    "print(f\"📅 Analiz zamanı: {datetime.now()}\")"
   ]
  },
  {
   "cell_type": "code",
   "execution_count": null,
   "metadata": {},
   "outputs": [],
   "source": [
    "# GPU kontrol\n",
    "!nvidia-smi --query-gpu=name,memory.total,memory.used,utilization.gpu --format=csv"
   ]
  },
  {
   "cell_type": "code",
   "execution_count": null,
   "metadata": {},
   "outputs": [],
   "source": [
    "# PyTorch CUDA kontrolü\n",
    "import torch\n",
    "print(f\"🔥 CUDA available: {torch.cuda.is_available()}\")\n",
    "if torch.cuda.is_available():\n",
    "    print(f\"🎮 GPU: {torch.cuda.get_device_name(0)}\")\n",
    "    print(f\"💾 GPU Memory: {torch.cuda.get_device_properties(0).total_memory / 1024**3:.1f} GB\")\n",
    "    print(f\"🔄 CUDA Version: {torch.version.cuda}\")"
   ]
  },
  {
   "cell_type": "markdown",
   "metadata": {},
   "source": [
    "## 2. Video İndirme ve Hazırlık"
   ]
  },
  {
   "cell_type": "code",
   "execution_count": null,
   "metadata": {},
   "outputs": [],
   "source": [
    "# Çalışma dizinini ayarla\n",
    "os.chdir('/workspace/line48')\n",
    "print(f\"📁 Çalışma dizini: {os.getcwd()}\")\n",
    "\n",
    "# Gerekli dizinleri oluştur\n",
    "!mkdir -p videos outputs logs\n",
    "!ls -la"
   ]
  },
  {
   "cell_type": "code",
   "execution_count": null,
   "metadata": {},
   "outputs": [],
   "source": [
    "# Kısa videoyu Google Drive'dan indir\n",
    "import gdown\n",
    "\n",
    "video_url = \"https://drive.google.com/file/d/1rpgW_pmdMiUp_9_BVkRmXtF7Hon_u1gC/view?usp=share_link\"\n",
    "file_id = \"1rpgW_pmdMiUp_9_BVkRmXtF7Hon_u1gC\"\n",
    "output_path = \"videos/short_video.mp4\"\n",
    "\n",
    "print(f\"📥 Kısa video indiriliyor...\")\n",
    "print(f\"🔗 URL: {video_url}\")\n",
    "print(f\"📂 Çıktı: {output_path}\")\n",
    "\n",
    "gdown.download(f\"https://drive.google.com/uc?id={file_id}\", output_path, quiet=False)\n",
    "\n",
    "# Dosya kontrolü\n",
    "if os.path.exists(output_path):\n",
    "    file_size = os.path.getsize(output_path) / (1024*1024)  # MB\n",
    "    print(f\"✅ Video indirildi: {output_path}\")\n",
    "    print(f\"📊 Dosya boyutu: {file_size:.1f} MB\")\nelse:\n",
    "    print(f\"❌ Video indirilemedi!\")"
   ]
  },
  {
   "cell_type": "code",
   "execution_count": null,
   "metadata": {},
   "outputs": [],
   "source": [
    "# Video özelliklerini kontrol et\n",
    "import cv2\n",
    "\n",
    "video_path = \"videos/short_video.mp4\"\n",
    "cap = cv2.VideoCapture(video_path)\n",
    "\n",
    "if cap.isOpened():\n",
    "    fps = cap.get(cv2.CAP_PROP_FPS)\n",
    "    frame_count = int(cap.get(cv2.CAP_PROP_FRAME_COUNT))\n",
    "    width = int(cap.get(cv2.CAP_PROP_FRAME_WIDTH))\n",
    "    height = int(cap.get(cv2.CAP_PROP_FRAME_HEIGHT))\n",
    "    duration = frame_count / fps\n",
    "    \n",
    "    print(f\"🎬 Video Özellikleri:\")\n",
    "    print(f\"   📐 Çözünürlük: {width}x{height}\")\n",
    "    print(f\"   🎞️  FPS: {fps}\")\n",
    "    print(f\"   📊 Frame sayısı: {frame_count}\")\n",
    "    print(f\"   ⏱️  Süre: {duration:.1f} saniye ({duration/60:.1f} dakika)\")\n",
    "    \n",
    "    cap.release()\n",
    "else:\n",
    "    print(f\"❌ Video açılamadı: {video_path}\")"
   ]
  },
  {
   "cell_type": "markdown",
   "metadata": {},
   "source": [
    "## 3. YOLO Analizi (Detaylı Bilgi İle)"
   ]
  },
  {
   "cell_type": "code",
   "execution_count": null,
   "metadata": {},
   "outputs": [],
   "source": [
    "# YOLO analizi başlat\n",
    "print(\"🎯 YOLO Analizi Başlatılıyor...\")\n",
    "print(\"=\" * 60)\n",
    "\n",
    "os.chdir('/workspace/line48/src')\n",
    "\n",
    "yolo_start_time = time.time()\n",
    "\n",
    "# YOLO komutu\n",
    "yolo_cmd = [\n",
    "    \"python\", \"run_analysis.py\",\n",
    "    \"--video\", \"../videos/short_video.mp4\",\n",
    "    \"--frame-logic\",\n",
    "    \"--detailed-info\",\n",
    "    \"--confidence\", \"0.25\",\n",
    "    \"--iou\", \"0.45\", \n",
    "    \"--imgsz\", \"1280\"\n",
    "]\n",
    "\n",
    "print(f\"🚀 Komut: {' '.join(yolo_cmd)}\")\n",
    "print(\"⏳ İşleniyor...\")"
   ]
  },
  {
   "cell_type": "code",
   "execution_count": null,
   "metadata": {},
   "outputs": [],
   "source": [
    "# YOLO analizini çalıştır\n",
    "try:\n",
    "    yolo_result = subprocess.run(yolo_cmd, capture_output=True, text=True, timeout=1800)\n",
    "    yolo_time = time.time() - yolo_start_time\n",
    "    \n",
    "    print(f\"⏱️  YOLO İşleme Süresi: {yolo_time:.1f} saniye\")\n",
    "    \n",
    "    if yolo_result.returncode == 0:\n",
    "        print(\"✅ YOLO analizi başarıyla tamamlandı!\")\n",
    "        print(\"\\n📝 YOLO Çıktısı:\")\n",
    "        print(yolo_result.stdout[-1000:])  # Son 1000 karakter\n",
    "    else:\n",
    "        print(\"❌ YOLO analizi başarısız!\")\n",
    "        print(\"Hata:\", yolo_result.stderr)\n",
    "        \nexcept subprocess.TimeoutExpired:\n",
    "    print(\"⏰ YOLO analizi 30 dakika sonra zaman aşımına uğradı\")\nexcept Exception as e:\n",
    "    print(f\"❌ YOLO analizi hatası: {e}\")"
   ]
  },
  {
   "cell_type": "code",
   "execution_count": null,
   "metadata": {},
   "outputs": [],
   "source": [
    "# YOLO sonuçlarını kontrol et\n",
    "import glob\n",
    "import pandas as pd\n",
    "\n",
    "print(\"📊 YOLO Sonuçları:\")\n",
    "print(\"=\"*40)\n",
    "\n",
    "# Output videolarını listele\n",
    "output_videos = glob.glob('../outputs/*processed*.mp4')\n",
    "if output_videos:\n",
    "    latest_output = max(output_videos, key=os.path.getctime)\n",
    "    print(f\"🎬 İşlenmiş video: {latest_output}\")\n",
    "    print(f\"📊 Dosya boyutu: {os.path.getsize(latest_output) / (1024*1024):.1f} MB\")\n",
    "\n",
    "# Log dosyalarını kontrol et\n",
    "result_files = glob.glob('../logs/*results*.csv')\n",
    "if result_files:\n",
    "    latest_results = max(result_files, key=os.path.getctime)\n",
    "    print(f\"\\n📈 Sonuç dosyası: {latest_results}\")\n",
    "    \n",
    "    try:\n",
    "        df_yolo = pd.read_csv(latest_results)\n",
    "        print(\"\\n🎯 YOLO Tespit Sonuçları:\")\n",
    "        for _, row in df_yolo.iterrows():\n",
    "            cls = row.get('class', 'unknown')\n",
    "            safe = row.get('safe_crossings', 0)\n",
    "            uncertain = row.get('uncertain_crossings', 0)\n",
    "            total = row.get('total_valid_crossings', 0)\n",
    "            print(f\"  {cls:<10}: Safe={safe}, Uncertain={uncertain}, Total={total}\")\n",
    "    except Exception as e:\n",
    "        print(f\"❌ Sonuç dosyası okunamadı: {e}\")\nelse:\n",
    "    print(\"⚠️ Sonuç dosyası bulunamadı\")"
   ]
  },
  {
   "cell_type": "markdown",
   "metadata": {},
   "source": [
    "## 4. SAM Bağımlılıklarını Yükle"
   ]
  },
  {
   "cell_type": "code",
   "execution_count": null,
   "metadata": {},
   "outputs": [],
   "source": [
    "# SAM için gerekli paketleri yükle\n",
    "print(\"📦 SAM bağımlılıkları yükleniyor...\")\n",
    "!pip install segment-anything matplotlib Pillow scipy\n",
    "\n",
    "print(\"\\n✅ SAM bağımlılıkları yüklendi!\")"
   ]
  },
  {
   "cell_type": "markdown",
   "metadata": {},
   "source": [
    "## 5. SAM Analizi (Detaylı Bilgi İle)"
   ]
  },
  {
   "cell_type": "code",
   "execution_count": null,
   "metadata": {},
   "outputs": [],
   "source": [
    "# SAM analizi başlat\n",
    "print(\"🔬 SAM Analizi Başlatılıyor...\")\n",
    "print(\"=\" * 60)\n",
    "\n",
    "sam_start_time = time.time()\n",
    "\n",
    "# SAM komutu\n",
    "sam_cmd = [\n",
    "    \"python\", \"run_sam_analysis.py\",\n",
    "    \"--video\", \"../videos/short_video.mp4\",\n",
    "    \"--sam-model\", \"vit_b\",\n",
    "    \"--detailed-info\",\n",
    "    \"--download-sam\",\n",
    "    \"--confidence\", \"0.25\",\n",
    "    \"--iou\", \"0.45\",\n",
    "    \"--imgsz\", \"1280\"\n",
    "]\n",
    "\n",
    "print(f\"🚀 Komut: {' '.join(sam_cmd)}\")\n",
    "print(\"⏳ İşleniyor... (SAM daha yavaş olabilir)\")"
   ]
  },
  {
   "cell_type": "code",
   "execution_count": null,
   "metadata": {},
   "outputs": [],
   "source": [
    "# SAM analizini çalıştır\n",
    "try:\n",
    "    sam_result = subprocess.run(sam_cmd, capture_output=True, text=True, timeout=3600)  # 60 dakika\n",
    "    sam_time = time.time() - sam_start_time\n",
    "    \n",
    "    print(f\"⏱️  SAM İşleme Süresi: {sam_time:.1f} saniye\")\n",
    "    \n",
    "    if sam_result.returncode == 0:\n",
    "        print(\"✅ SAM analizi başarıyla tamamlandı!\")\n",
    "        print(\"\\n📝 SAM Çıktısı:\")\n",
    "        print(sam_result.stdout[-1000:])  # Son 1000 karakter\n",
    "    else:\n",
    "        print(\"❌ SAM analizi başarısız!\")\n",
    "        print(\"Hata:\", sam_result.stderr)\n",
    "        \nexcept subprocess.TimeoutExpired:\n",
    "    print(\"⏰ SAM analizi 60 dakika sonra zaman aşımına uğradı\")\nexcept Exception as e:\n",
    "    print(f\"❌ SAM analizi hatası: {e}\")"
   ]
  },
  {
   "cell_type": "code",
   "execution_count": null,
   "metadata": {},
   "outputs": [],
   "source": [
    "# SAM sonuçlarını kontrol et\n",
    "print(\"🔬 SAM Sonuçları:\")\n",
    "print(\"=\"*40)\n",
    "\n",
    "# SAM output videolarını listele\n",
    "sam_output_videos = glob.glob('../outputs/*sam_processed*.mp4')\n",
    "if sam_output_videos:\n",
    "    latest_sam_output = max(sam_output_videos, key=os.path.getctime)\n",
    "    print(f\"🎬 SAM İşlenmiş video: {latest_sam_output}\")\n",
    "    print(f\"📊 Dosya boyutu: {os.path.getsize(latest_sam_output) / (1024*1024):.1f} MB\")\n",
    "\n",
    "# SAM sonuç dosyalarını kontrol et\n",
    "sam_result_files = glob.glob('../logs/*sam_results*.csv')\n",
    "if sam_result_files:\n",
    "    latest_sam_results = max(sam_result_files, key=os.path.getctime)\n",
    "    print(f\"\\n📈 SAM Sonuç dosyası: {latest_sam_results}\")\n",
    "    \n",
    "    try:\n",
    "        df_sam = pd.read_csv(latest_sam_results)\n",
    "        print(\"\\n🔬 SAM Tespit Sonuçları:\")\n",
    "        for _, row in df_sam.iterrows():\n",
    "            cls = row.get('class', 'unknown')\n",
    "            safe = row.get('safe_crossings', 0)\n",
    "            uncertain = row.get('uncertain_crossings', 0)\n",
    "            total = row.get('total_valid_crossings', 0)\n",
    "            print(f\"  {cls:<10}: Safe={safe}, Uncertain={uncertain}, Total={total}\")\n",
    "    except Exception as e:\n",
    "        print(f\"❌ SAM sonuç dosyası okunamadı: {e}\")\nelse:\n",
    "    print(\"⚠️ SAM sonuç dosyası bulunamadı\")"
   ]
  },
  {
   "cell_type": "markdown",
   "metadata": {},
   "source": [
    "## 6. Otomatik Karşılaştırma Raporu"
   ]
  },
  {
   "cell_type": "code",
   "execution_count": null,
   "metadata": {},
   "outputs": [],
   "source": [
    "# Otomatik karşılaştırma scripti çalıştır\n",
    "print(\"📊 YOLO vs SAM Karşılaştırma Raporu Oluşturuluyor...\")\n",
    "print(\"=\" * 60)\n",
    "\n",
    "comparison_cmd = [\n",
    "    \"python\", \"compare_yolo_sam.py\",\n",
    "    \"--video\", \"../videos/short_video.mp4\",\n",
    "    \"--detailed-info\",\n",
    "    \"--sam-model\", \"vit_b\",\n",
    "    \"--output\", \"comparison_report_short_video.md\"\n",
    "]\n",
    "\n",
    "print(f\"🚀 Komut: {' '.join(comparison_cmd)}\")\n",
    "\n",
    "try:\n",
    "    comparison_result = subprocess.run(comparison_cmd, capture_output=True, text=True, timeout=600)\n",
    "    \n",
    "    if comparison_result.returncode == 0:\n",
    "        print(\"✅ Karşılaştırma raporu oluşturuldu!\")\n",
    "        print(\"\\n📊 Karşılaştırma Çıktısı:\")\n",
    "        print(comparison_result.stdout)\n",
    "    else:\n",
    "        print(\"❌ Karşılaştırma raporu oluşturulamadı!\")\n",
    "        print(\"Hata:\", comparison_result.stderr)\n",
    "        \nexcept subprocess.TimeoutExpired:\n",
    "    print(\"⏰ Karşılaştırma raporu 10 dakika sonra zaman aşımına uğradı\")\nexcept Exception as e:\n",
    "    print(f\"❌ Karşılaştırma hatası: {e}\")"
   ]
  },
  {
   "cell_type": "markdown",
   "metadata": {},
   "source": [
    "## 7. Manuel Karşılaştırma ve Analiz"
   ]
  },
  {
   "cell_type": "code",
   "execution_count": null,
   "metadata": {},
   "outputs": [],
   "source": [
    "# Manuel karşılaştırma tablosu oluştur\n",
    "print(\"🔍 Manuel Karşılaştırma Analizi\")\n",
    "print(\"=\" * 50)\n",
    "\n",
    "# YOLO ve SAM sonuçlarını karşılaştır\n",
    "try:\n",
    "    # YOLO sonuçları\n",
    "    yolo_files = glob.glob('../logs/*results*.csv')\n",
    "    yolo_files = [f for f in yolo_files if 'sam' not in f]  # SAM dosyalarını hariç tut\n",
    "    \n",
    "    # SAM sonuçları\n",
    "    sam_files = glob.glob('../logs/*sam_results*.csv')\n",
    "    \n",
    "    if yolo_files and sam_files:\n",
    "        latest_yolo = max(yolo_files, key=os.path.getctime)\n",
    "        latest_sam = max(sam_files, key=os.path.getctime)\n",
    "        \n",
    "        df_yolo = pd.read_csv(latest_yolo)\n",
    "        df_sam = pd.read_csv(latest_sam)\n",
    "        \n",
    "        print(\"\\n📊 Detay Karşılaştırma Tablosu:\")\n",
    "        print(\"-\" * 70)\n",
    "        print(f\"{'Sınıf':<12} {'YOLO Total':<12} {'SAM Total':<12} {'Fark':<8} {'İyileşme':<10}\")\n",
    "        print(\"-\" * 70)\n",
    "        \n",
    "        total_yolo = 0\n",
    "        total_sam = 0\n",
    "        \n",
    "        classes = ['person', 'backpack', 'handbag', 'suitcase']\n",
    "        \n",
    "        for cls in classes:\n",
    "            yolo_row = df_yolo[df_yolo['class'] == cls]\n",
    "            sam_row = df_sam[df_sam['class'] == cls]\n",
    "            \n",
    "            yolo_total = yolo_row['total_valid_crossings'].iloc[0] if len(yolo_row) > 0 else 0\n",
    "            sam_total = sam_row['total_valid_crossings'].iloc[0] if len(sam_row) > 0 else 0\n",
    "            \n",
    "            total_yolo += yolo_total\n",
    "            total_sam += sam_total\n",
    "            \n",
    "            diff = sam_total - yolo_total\n",
    "            improvement = (diff / yolo_total * 100) if yolo_total > 0 else 0\n",
    "            \n",
    "            print(f\"{cls:<12} {yolo_total:<12} {sam_total:<12} {diff:+<8} {improvement:+.1f}%\")\n",
    "        \n",
    "        print(\"-\" * 70)\n",
    "        overall_diff = total_sam - total_yolo\n",
    "        overall_improvement = (overall_diff / total_yolo * 100) if total_yolo > 0 else 0\n",
    "        print(f\"{'TOPLAM':<12} {total_yolo:<12} {total_sam:<12} {overall_diff:+<8} {overall_improvement:+.1f}%\")\n",
    "        \n",
    "        # Performans karşılaştırması\n",
    "        print(\"\\n⚡ Performans Karşılaştırması:\")\n",
    "        print(f\"⏱️  YOLO İşleme Süresi: {yolo_time:.1f} saniye\")\n",
    "        print(f\"⏱️  SAM İşleme Süresi: {sam_time:.1f} saniye\")\n",
    "        \n",
    "        speed_ratio = yolo_time / sam_time if sam_time > 0 else 0\n",
    "        print(f\"🏃 Hız Oranı: SAM, YOLO'dan {1/speed_ratio:.1f}x daha yavaş\")\n",
    "        \n",
    "        # Sonuç özeti\n",
    "        print(\"\\n🏆 SONUÇ ÖZETİ:\")\n",
    "        print(\"=\" * 30)\n",
    "        \n",
    "        if overall_improvement > 10:\n",
    "            print(\"✅ SAM önemli ölçüde daha iyi sonuç verdi!\")\n",
    "        elif overall_improvement > 5:\n",
    "            print(\"🟡 SAM hafif iyileşme sağladı\")\n",
    "        elif overall_improvement > 0:\n",
    "            print(\"🟢 SAM minimal iyileşme sağladı\")\n",
    "        else:\n",
    "            print(\"🔴 YOLO daha iyi performans gösterdi\")\n",
    "            \n",
    "        if speed_ratio < 0.5:\n",
    "            print(\"⚡ YOLO çok daha hızlı - gerçek zamanlı uygulamalar için tercih edilir\")\n",
    "        elif speed_ratio < 0.8:\n",
    "            print(\"🏃 YOLO daha hızlı - iyi bir hız/doğruluk dengesi\")\n",
    "        else:\n",
    "            print(\"🐌 İşleme hızları karşılaştırılabilir\")\n",
    "            \n",
    "    else:\n",
    "        print(\"❌ Karşılaştırma için yeterli sonuç dosyası bulunamadı\")\n",
    "        \nexcept Exception as e:\n",
    "    print(f\"❌ Manuel karşılaştırma hatası: {e}\")"
   ]
  },
  {
   "cell_type": "markdown",
   "metadata": {},
   "source": [
    "## 8. Dosya Yönetimi ve Temizlik"
   ]
  },
  {
   "cell_type": "code",
   "execution_count": null,
   "metadata": {},
   "outputs": [],
   "source": [
    "# Oluşturulan dosyaları listele\n",
    "print(\"📁 Oluşturulan Dosyalar:\")\n",
    "print(\"=\" * 40)\n",
    "\n",
    "print(\"\\n🎬 İşlenmiş Videolar:\")\n",
    "for video in glob.glob('../outputs/*.mp4'):\n",
    "    size = os.path.getsize(video) / (1024*1024)\n",
    "    print(f\"  📹 {os.path.basename(video)} ({size:.1f} MB)\")\n",
    "\n",
    "print(\"\\n📊 Log Dosyaları:\")\n",
    "for log in glob.glob('../logs/*.csv'):\n",
    "    size = os.path.getsize(log) / 1024\n",
    "    print(f\"  📈 {os.path.basename(log)} ({size:.1f} KB)\")\n",
    "\n",
    "print(\"\\n📋 Raporlar:\")\n",
    "for report in glob.glob('*.md'):\n",
    "    size = os.path.getsize(report) / 1024\n",
    "    print(f\"  📄 {report} ({size:.1f} KB)\")\n",
    "\n",
    "# Toplam disk kullanımı\n",
    "total_size = 0\n",
    "for pattern in ['../outputs/*.mp4', '../logs/*.csv', '*.md']:\n",
    "    for file in glob.glob(pattern):\n",
    "        total_size += os.path.getsize(file)\n",
    "\n",
    "print(f\"\\n💾 Toplam Disk Kullanımı: {total_size / (1024*1024):.1f} MB\")"
   ]
  },
  {
   "cell_type": "code",
   "execution_count": null,
   "metadata": {},
   "outputs": [],
   "source": [
    "# Sonuçları zip'le\n",
    "import shutil\n",
    "from zipfile import ZipFile\n",
    "\n",
    "timestamp = datetime.now().strftime(\"%Y%m%d_%H%M%S\")\n",
    "zip_filename = f\"yolo_sam_comparison_{timestamp}.zip\"\n",
    "\n",
    "print(f\"📦 Sonuçlar zip'leniyor: {zip_filename}\")\n",
    "\n",
    "with ZipFile(zip_filename, 'w') as zipf:\n",
    "    # İşlenmiş videolar\n",
    "    for video in glob.glob('../outputs/*.mp4'):\n",
    "        zipf.write(video, f\"videos/{os.path.basename(video)}\")\n",
    "    \n",
    "    # Log dosyaları\n",
    "    for log in glob.glob('../logs/*.csv'):\n",
    "        zipf.write(log, f\"logs/{os.path.basename(log)}\")\n",
    "    \n",
    "    # Raporlar\n",
    "    for report in glob.glob('*.md'):\n",
    "        zipf.write(report, f\"reports/{report}\")\n",
    "\n",
    "zip_size = os.path.getsize(zip_filename) / (1024*1024)\n",
    "print(f\"✅ Zip oluşturuldu: {zip_filename} ({zip_size:.1f} MB)\")\n",
    "print(f\"📥 İndirmek için: scp root@your-vastai-ip:/workspace/line48/src/{zip_filename} ./\")"
   ]
  },
  {
   "cell_type": "markdown",
   "metadata": {},
   "source": [
    "## 9. GPU Performans Özeti"
   ]
  },
  {
   "cell_type": "code",
   "execution_count": null,
   "metadata": {},
   "outputs": [],
   "source": [
    "# Final GPU durumu\n",
    "print(\"🎮 Final GPU Durumu:\")\n",
    "print(\"=\" * 30)\n",
    "!nvidia-smi --query-gpu=utilization.gpu,memory.used,memory.total,temperature.gpu,power.draw --format=csv\n",
    "\n",
    "# PyTorch memory temizle\n",
    "if torch.cuda.is_available():\n",
    "    allocated = torch.cuda.memory_allocated(0) / 1024**3\n",
    "    cached = torch.cuda.memory_reserved(0) / 1024**3\n",
    "    print(f\"\\n💾 PyTorch GPU Memory:\")\n",
    "    print(f\"   Allocated: {allocated:.2f} GB\")\n",
    "    print(f\"   Cached: {cached:.2f} GB\")\n",
    "    \n",
    "    torch.cuda.empty_cache()\n",
    "    print(f\"✅ GPU cache temizlendi\")\n",
    "\n",
    "print(f\"\\n🎉 Analiz tamamlandı!\")\n",
    "print(f\"⏱️  Toplam süre: YOLO={yolo_time:.1f}s + SAM={sam_time:.1f}s = {yolo_time+sam_time:.1f}s\")"
   ]
  }
 ],
 "metadata": {
  "kernelspec": {
   "display_name": "Python 3",
   "language": "python",
   "name": "python3"
  },
  "language_info": {
   "codemirror_mode": {
    "name": "ipython",
    "version": 3
   },
   "file_extension": ".py",
   "mimetype": "text/x-python",
   "name": "python",
   "nbconvert_exporter": "python",
   "pygments_lexer": "ipython3",
   "version": "3.8.10"
  }
 },
 "nbformat": 4,
 "nbformat_minor": 4
}