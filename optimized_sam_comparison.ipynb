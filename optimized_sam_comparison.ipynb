{
 "cells": [
  {
   "cell_type": "markdown",
   "metadata": {},
   "source": [
    "# YOLO vs Optimized SAM Karşılaştırması\n",
    "Bu notebook YOLO ile optimize edilmiş SAM sonuçlarını karşılaştırır."
   ]
  },
  {
   "cell_type": "markdown",
   "metadata": {},
   "source": [
    "## 1. Sistem Durumu ve Hazırlık"
   ]
  },
  {
   "cell_type": "code",
   "execution_count": null,
   "metadata": {},
   "outputs": [],
   "source": [
    "import os\n",
    "import subprocess\n",
    "import time\n",
    "import pandas as pd\n",
    "import numpy as np\n",
    "from datetime import datetime\n",
    "import glob\n",
    "\n",
    "# Çalışma dizinini ayarla\n",
    "os.chdir('/workspace/line48/src')\n",
    "print(f\"📁 Çalışma dizini: {os.getcwd()}\")\n",
    "\n",
    "# Video dosyasını kontrol et\n",
    "video_path = \"../videos/short_video.mp4\"\n",
    "if os.path.exists(video_path):\n",
    "    size = os.path.getsize(video_path) / (1024*1024)\n",
    "    print(f\"✅ Video hazır: {video_path} ({size:.1f} MB)\")\nelse:\n",
    "    print(f\"❌ Video bulunamadı: {video_path}\")"
   ]
  },
  {
   "cell_type": "code",
   "execution_count": null,
   "metadata": {},
   "outputs": [],
   "source": [
    "# GPU durumunu kontrol et\n",
    "!nvidia-smi --query-gpu=name,utilization.gpu,memory.used,memory.total,temperature.gpu --format=csv"
   ]
  },
  {
   "cell_type": "markdown",
   "metadata": {},
   "source": [
    "## 2. Mevcut YOLO Sonuçlarını Kontrol Et"
   ]
  },
  {
   "cell_type": "code",
   "execution_count": null,
   "metadata": {},
   "outputs": [],
   "source": [
    "# YOLO sonuçlarını bul ve göster\n",
    "yolo_result_files = glob.glob('../logs/short_video_results_*.csv')\n",
    "yolo_result_files = [f for f in yolo_result_files if 'sam' not in f]  # SAM dosyalarını hariç tut\n",
    "\n",
    "if yolo_result_files:\n",
    "    latest_yolo = max(yolo_result_files, key=os.path.getctime)\n",
    "    print(f\"📊 En son YOLO sonucu: {latest_yolo}\")\n",
    "    \n",
    "    df_yolo = pd.read_csv(latest_yolo)\n",
    "    print(\"\\n🎯 YOLO Sonuçları:\")\n",
    "    print(\"=\" * 40)\n",
    "    \n",
    "    yolo_total = 0\n",
    "    for _, row in df_yolo.iterrows():\n",
    "        cls = row.get('class', 'unknown')\n",
    "        safe = row.get('safe_crossings', 0)\n",
    "        uncertain = row.get('uncertain_crossings', 0)\n",
    "        total = row.get('total_valid_crossings', 0)\n",
    "        yolo_total += total\n",
    "        print(f\"  {cls:<10}: Safe={safe:>2}, Uncertain={uncertain:>2}, Total={total:>2}\")\n",
    "    \n",
    "    print(f\"  {'TOPLAM':<10}: {yolo_total:>2} geçiş\")\n",
    "    \n",
    "    # YOLO processing time\n",
    "    yolo_time = df_yolo['processing_time'].iloc[0] if 'processing_time' in df_yolo.columns else 'N/A'\n",
    "    yolo_fps = df_yolo['avg_fps'].iloc[0] if 'avg_fps' in df_yolo.columns else 'N/A'\n",
    "    print(f\"\\n⚡ YOLO Performance: {yolo_time}s, {yolo_fps} FPS\")\n",
    "    \nelse:\n",
    "    print(\"❌ YOLO sonucu bulunamadı!\")\n",
    "    yolo_total = 0"
   ]
  },
  {
   "cell_type": "markdown",
   "metadata": {},
   "source": [
    "## 3. Optimized SAM Analizini Çalıştır"
   ]
  },
  {
   "cell_type": "code",
   "execution_count": null,
   "metadata": {},
   "outputs": [],
   "source": [
    "# Optimized SAM analizi başlat\n",
    "print(\"🔬 Optimized SAM Analizi Başlatılıyor...\")\n",
    "print(\"=\"*60)\n",
    "print(\"🎯 Optimizasyonlar:\")\n",
    "print(\"   - Min Safe Time: 3.0s (YOLO: 0.5s)\")\n",
    "print(\"   - Min Uncertain Time: 1.5s (YOLO: 0.28s)\")\n",
    "print(\"   - Confidence Threshold: 0.5 (YOLO: 0.25)\")\n",
    "print(\"   - Min Mask Area: 2000px\")\n",
    "print(\"   - Strict Tracking Distance: <50px\")\n",
    "print(\"=\"*60)\n",
    "\n",
    "optimized_sam_start = time.time()\n",
    "\n",
    "# Optimized SAM komutu\n",
    "opt_sam_cmd = [\n",
    "    \"python\", \"run_sam_analysis_optimized.py\",\n",
    "    \"--video\", \"../videos/short_video.mp4\",\n",
    "    \"--sam-model\", \"vit_b\",\n",
    "    \"--detailed-info\"\n",
    "]\n",
    "\n",
    "print(f\"🚀 Komut: {' '.join(opt_sam_cmd)}\")\n",
    "print(\"⏳ İşleniyor... (optimize edildi, daha makul sonuçlar bekleniyor)\")"
   ]
  },
  {
   "cell_type": "code",
   "execution_count": null,
   "metadata": {},
   "outputs": [],
   "source": [
    "# Optimized SAM'i çalıştır\n",
    "try:\n",
    "    opt_sam_result = subprocess.run(opt_sam_cmd, capture_output=True, text=True, timeout=1800)  # 30 dakika\n",
    "    opt_sam_time = time.time() - optimized_sam_start\n",
    "    \n",
    "    print(f\"⏱️  Optimized SAM İşleme Süresi: {opt_sam_time:.1f} saniye\")\n",
    "    \n",
    "    if opt_sam_result.returncode == 0:\n",
    "        print(\"✅ Optimized SAM analizi başarıyla tamamlandı!\")\n",
    "        print(\"\\n📝 Optimized SAM Çıktısı:\")\n",
    "        print(opt_sam_result.stdout[-1500:])  # Son 1500 karakter\n",
    "    else:\n",
    "        print(\"❌ Optimized SAM analizi başarısız!\")\n",
    "        print(\"Hata:\", opt_sam_result.stderr)\n",
    "        \nexcept subprocess.TimeoutExpired:\n",
    "    print(\"⏰ Optimized SAM analizi 30 dakika sonra zaman aşımına uğradı\")\nexcept Exception as e:\n",
    "    print(f\"❌ Optimized SAM analizi hatası: {e}\")"
   ]
  },
  {
   "cell_type": "markdown",
   "metadata": {},
   "source": [
    "## 4. Optimized SAM Sonuçlarını Analiz Et"
   ]
  },
  {
   "cell_type": "code",
   "execution_count": null,
   "metadata": {},
   "outputs": [],
   "source": [
    "# Optimized SAM sonuçlarını bul ve analiz et\n",
    "opt_sam_result_files = glob.glob('../logs/*sam_optimized_results*.csv')\n",
    "\n",
    "if opt_sam_result_files:\n",
    "    latest_opt_sam = max(opt_sam_result_files, key=os.path.getctime)\n",
    "    print(f\"📊 Optimized SAM sonucu: {latest_opt_sam}\")\n",
    "    \n",
    "    df_opt_sam = pd.read_csv(latest_opt_sam)\n",
    "    print(\"\\n🔬 Optimized SAM Sonuçları:\")\n",
    "    print(\"=\"*40)\n",
    "    \n",
    "    opt_sam_total = 0\n",
    "    for _, row in df_opt_sam.iterrows():\n",
    "        cls = row.get('class', 'unknown')\n",
    "        safe = row.get('safe_crossings', 0)\n",
    "        uncertain = row.get('uncertain_crossings', 0)\n",
    "        total = row.get('total_valid_crossings', 0)\n",
    "        opt_sam_total += total\n",
    "        print(f\"  {cls:<10}: Safe={safe:>2}, Uncertain={uncertain:>2}, Total={total:>2}\")\n",
    "    \n",
    "    print(f\"  {'TOPLAM':<10}: {opt_sam_total:>2} geçiş\")\n",
    "    \n",
    "    # Optimized SAM performance\n",
    "    opt_sam_proc_time = df_opt_sam['processing_time'].iloc[0] if 'processing_time' in df_opt_sam.columns else opt_sam_time\n",
    "    opt_sam_fps = df_opt_sam['avg_fps'].iloc[0] if 'avg_fps' in df_opt_sam.columns else 'N/A'\n",
    "    print(f\"\\n⚡ Optimized SAM Performance: {opt_sam_proc_time:.1f}s, {opt_sam_fps} FPS\")\n",
    "    \nelse:\n",
    "    print(\"❌ Optimized SAM sonucu bulunamadı!\")\n",
    "    opt_sam_total = 0"
   ]
  },
  {
   "cell_type": "markdown",
   "metadata": {},
   "source": [
    "## 5. Önceki SAM ile Karşılaştır"
   ]
  },
  {
   "cell_type": "code",
   "execution_count": null,
   "metadata": {},
   "outputs": [],
   "source": [
    "# Önceki (optimize edilmemiş) SAM sonuçlarını bul\n",
    "old_sam_files = glob.glob('../logs/*sam_results*.csv')\n",
    "old_sam_files = [f for f in old_sam_files if 'optimized' not in f]  # Optimized olanları hariç tut\n",
    "\n",
    "if old_sam_files:\n",
    "    latest_old_sam = max(old_sam_files, key=os.path.getctime)\n",
    "    print(f\"📊 Önceki SAM sonucu: {latest_old_sam}\")\n",
    "    \n",
    "    df_old_sam = pd.read_csv(latest_old_sam)\n",
    "    print(\"\\n🔬 Önceki SAM Sonuçları:\")\n",
    "    print(\"=\"*40)\n",
    "    \n",
    "    old_sam_total = 0\n",
    "    for _, row in df_old_sam.iterrows():\n",
    "        cls = row.get('class', 'unknown')\n",
    "        safe = row.get('safe_crossings', 0)\n",
    "        uncertain = row.get('uncertain_crossings', 0)\n",
    "        total = row.get('total_valid_crossings', 0)\n",
    "        old_sam_total += total\n",
    "        print(f\"  {cls:<10}: Safe={safe:>2}, Uncertain={uncertain:>2}, Total={total:>2}\")\n",
    "    \n",
    "    print(f\"  {'TOPLAM':<10}: {old_sam_total:>2} geçiş\")\n",
    "    \nelse:\n",
    "    print(\"⚠️ Önceki SAM sonucu bulunamadı\")\n",
    "    old_sam_total = 930  # Bilinen değer"
   ]
  },
  {
   "cell_type": "markdown",
   "metadata": {},
   "source": [
    "## 6. Kapsamlı Karşılaştırma Analizi"
   ]
  },
  {
   "cell_type": "code",
   "execution_count": null,
   "metadata": {},
   "outputs": [],
   "source": [
    "# Kapsamlı karşılaştırma tablosu\n",
    "print(\"📊 KAPSAMLI KARŞILAŞTIRMA ANALİZİ\")\n",
    "print(\"=\" * 70)\n",
    "\n",
    "# Özet tablo\n",
    "print(f\"{'Method':<20} {'Total Crossings':<15} {'Improvement':<12} {'Performance'}\")\n",
    "print(\"-\" * 70)\n",
    "\n",
    "# YOLO baseline\n",
    "if yolo_total > 0:\n",
    "    print(f\"{'YOLO (Baseline)':<20} {yolo_total:<15} {'0%':<12} {yolo_time:.1f}s\")\n",
    "else:\n",
    "    yolo_total = 18  # Bilinen değer\n",
    "    print(f\"{'YOLO (Baseline)':<20} {yolo_total:<15} {'0%':<12} {'39.6s'}\")\n",
    "\n",
    "# Önceki SAM\n",
    "old_sam_improvement = ((old_sam_total - yolo_total) / yolo_total * 100) if yolo_total > 0 else 0\n",
    "print(f\"{'SAM (Original)':<20} {old_sam_total:<15} {old_sam_improvement:+.0f}%{'':<7} {'224.3s'}\")\n",
    "\n",
    "# Optimized SAM\n",
    "if opt_sam_total > 0:\n",
    "    opt_improvement = ((opt_sam_total - yolo_total) / yolo_total * 100) if yolo_total > 0 else 0\n",
    "    print(f\"{'SAM (Optimized)':<20} {opt_sam_total:<15} {opt_improvement:+.0f}%{'':<7} {opt_sam_proc_time:.1f}s\")\nelse:\n",
    "    print(f\"{'SAM (Optimized)':<20} {'N/A':<15} {'N/A':<12} {'N/A'}\")\n",
    "\n",
    "print(\"-\" * 70)\n",
    "\n",
    "# Detaylı analiz\n",
    "print(f\"\\n🔍 DETAYLI ANALİZ:\")\n",
    "print(f\"\\n📈 Doğruluk İyileştirmesi:\")\n",
    "print(f\"   Original SAM:  {old_sam_improvement:+.0f}% (Çok abartılı!)\")\n",
    "if opt_sam_total > 0:\n",
    "    print(f\"   Optimized SAM: {opt_improvement:+.0f}% (Daha makul)\")\n",
    "    \n",
    "    # Optimizasyon başarısı\n",
    "    optimization_success = ((old_sam_total - opt_sam_total) / old_sam_total * 100) if old_sam_total > 0 else 0\n",
    "    print(f\"\\n🎯 Optimizasyon Başarısı:\")\n",
    "    print(f\"   SAM tespit sayısı {optimization_success:.0f}% azaldı\")\n",
    "    print(f\"   {old_sam_total} → {opt_sam_total} geçiş\")\n",
    "\n",
    "print(f\"\\n⚡ Hız Karşılaştırması:\")\n",
    "print(f\"   YOLO:          ~40s (En hızlı)\")\n",
    "print(f\"   Original SAM:  ~224s (5.6x yavaş)\")\nif opt_sam_total > 0:\n    print(f\"   Optimized SAM: {opt_sam_proc_time:.0f}s ({opt_sam_proc_time/40:.1f}x yavaş)\")"
   ]
  },
  {
   "cell_type": "markdown",
   "metadata": {},
   "source": [
    "## 7. Sınıf Bazında Detaylı Karşılaştırma"
   ]
  },
  {
   "cell_type": "code",
   "execution_count": null,
   "metadata": {},
   "outputs": [],
   "source": [
    "# Sınıf bazında detaylı karşılaştırma\n",
    "print(\"\\n📊 SINIF BAZINDA DETAYLI KARŞILAŞTIRMA\")\n",
    "print(\"=\" * 60)\n",
    "\n",
    "classes = ['person', 'backpack', 'handbag', 'suitcase']\n",
    "\n",
    "print(f\"{'Class':<12} {'YOLO':<8} {'Old SAM':<10} {'Opt SAM':<10} {'YOLO→Opt':<12}\")\n",
    "print(\"-\" * 60)\n",
    "\n",
    "for cls in classes:\n",
    "    # YOLO değerleri\n",
    "    if yolo_result_files:\n",
    "        yolo_row = df_yolo[df_yolo['class'] == cls]\n",
    "        yolo_val = yolo_row['total_valid_crossings'].iloc[0] if len(yolo_row) > 0 else 0\n",
    "    else:\n",
    "        # Bilinen değerler\n",
    "        yolo_vals = {'person': 9, 'backpack': 6, 'handbag': 2, 'suitcase': 1}\n",
    "        yolo_val = yolo_vals.get(cls, 0)\n",
    "    \n",
    "    # Old SAM değerleri\n",
    "    if old_sam_files:\n",
    "        old_sam_row = df_old_sam[df_old_sam['class'] == cls]\n",
    "        old_sam_val = old_sam_row['total_valid_crossings'].iloc[0] if len(old_sam_row) > 0 else 0\n",
    "    else:\n",
    "        # Bilinen değerler\n",
    "        old_sam_vals = {'person': 839, 'backpack': 5, 'handbag': 84, 'suitcase': 2}\n",
    "        old_sam_val = old_sam_vals.get(cls, 0)\n",
    "    \n",
    "    # Optimized SAM değerleri\n",
    "    if opt_sam_result_files:\n",
    "        opt_sam_row = df_opt_sam[df_opt_sam['class'] == cls]\n",
    "        opt_sam_val = opt_sam_row['total_valid_crossings'].iloc[0] if len(opt_sam_row) > 0 else 0\n",
    "    else:\n",
    "        opt_sam_val = 0\n",
    "    \n",
    "    # İyileşme hesapla\n",
    "    if yolo_val > 0:\n",
    "        improvement = ((opt_sam_val - yolo_val) / yolo_val * 100)\n",
    "        improvement_str = f\"{improvement:+.0f}%\"\n",
    "    else:\n",
    "        improvement_str = \"N/A\"\n",
    "    \n",
    "    print(f\"{cls:<12} {yolo_val:<8} {old_sam_val:<10} {opt_sam_val:<10} {improvement_str:<12}\")\n",
    "\n",
    "print(\"-\" * 60)\n",
    "\n",
    "# Toplam\n",
    "total_yolo = yolo_total\n",
    "total_old_sam = old_sam_total\n",
    "total_opt_sam = opt_sam_total if opt_sam_total > 0 else 0\n",
    "\n",
    "if total_yolo > 0:\n",
    "    total_improvement = ((total_opt_sam - total_yolo) / total_yolo * 100)\n",
    "    total_improvement_str = f\"{total_improvement:+.0f}%\"\nelse:\n",
    "    total_improvement_str = \"N/A\"\n",
    "\n",
    "print(f\"{'TOTAL':<12} {total_yolo:<8} {total_old_sam:<10} {total_opt_sam:<10} {total_improvement_str:<12}\")"
   ]
  },
  {
   "cell_type": "markdown",
   "metadata": {},
   "source": [
    "## 8. Optimizasyon Başarı Raporu"
   ]
  },
  {
   "cell_type": "code",
   "execution_count": null,
   "metadata": {},
   "outputs": [],
   "source": [
    "# Optimizasyon başarı raporu\n",
    "print(\"\\n🎯 OPTİMİZASYON BAŞARI RAPORU\")\n",
    "print(\"=\" * 50)\n",
    "\n",
    "if opt_sam_total > 0:\n",
    "    # Başarı metrikleri\n",
    "    reduction_rate = ((old_sam_total - opt_sam_total) / old_sam_total * 100) if old_sam_total > 0 else 0\n",
    "    accuracy_to_yolo = abs(opt_sam_total - yolo_total) / yolo_total * 100 if yolo_total > 0 else 0\n",
    "    \n",
    "    print(f\"✅ BAŞARILAR:\")\n",
    "    print(f\"   📉 SAM tespitlerinde {reduction_rate:.0f}% azalma sağlandı\")\n",
    "    print(f\"   📊 {old_sam_total} → {opt_sam_total} geçiş\")\n",
    "    print(f\"   🎯 YOLO'ya yakınlık: {accuracy_to_yolo:.0f}% fark (Ideal: <50%)\")\n",
    "    \n",
    "    # Başarı değerlendirmesi\n",
    "    if accuracy_to_yolo < 50:\n",
    "        print(f\"   🏆 MÜKEMMEL: SAM artık YOLO'ya çok yakın sonuçlar veriyor!\")\n",
    "    elif accuracy_to_yolo < 100:\n",
    "        print(f\"   🟡 İYİ: SAM hala biraz yüksek ama çok daha makul\")\n",
    "    else:\n",
    "        print(f\"   🔴 DAHA İYİLEŞTİRME GEREKLİ: SAM hala çok fazla tespit yapıyor\")\n",
    "    \n",
    "    print(f\"\\n📈 SONUÇ ÖNERİLERİ:\")\n",
    "    if accuracy_to_yolo < 30:\n",
    "        print(f\"   ✅ Optimized SAM kullanıma hazır!\")\n",
    "        print(f\"   ✅ Piksel-level hassasiyet + makul sonuçlar\")\n",
    "    elif accuracy_to_yolo < 100:\n",
    "        print(f\"   🔧 Daha fazla fine-tuning gerekebilir\")\n",
    "        print(f\"   🔧 Min safe time'ı daha da artırabilirsin\")\n",
    "    else:\n",
    "        print(f\"   ⚠️  Parametreler daha da sıkılaştırılmalı\")\n",
    "        print(f\"   ⚠️  Confidence threshold'u 0.6'ya çıkar\")\nelse:\n",
    "    print(f\"❌ Optimized SAM sonucu alınamadı\")\n",
    "    print(f\"   Lütfen analizi tekrar çalıştır\")"
   ]
  },
  {
   "cell_type": "markdown",
   "metadata": {},
   "source": [
    "## 9. Video Çıktılarını Kontrol Et"
   ]
  },
  {
   "cell_type": "code",
   "execution_count": null,
   "metadata": {},
   "outputs": [],
   "source": [
    "# Video dosyalarını listele ve boyutlarını kontrol et\n",
    "print(\"🎬 OLUŞTURULAN VİDEO DOSYALARI\")\n",
    "print(\"=\" * 50)\n",
    "\n",
    "video_files = glob.glob('../outputs/short_video*.mp4')\nvideo_files.extend(glob.glob('../outputs/short_video*.avi'))\n",
    "\n",
    "for video in sorted(video_files):\n",
    "    size = os.path.getsize(video) / (1024*1024)\n",
    "    filename = os.path.basename(video)\n",
    "    \n",
    "    if 'yolo' in filename.lower() or ('sam' not in filename and 'processed' in filename):\n",
    "        video_type = \"🎯 YOLO\"\n",
    "    elif 'sam_optimized' in filename:\n",
    "        video_type = \"🔬 SAM (Optimized)\"\n",
    "    elif 'sam' in filename:\n",
    "        video_type = \"🔬 SAM (Original)\"\n",
    "    else:\n",
    "        video_type = \"❓ Unknown\"\n",
    "    \n",
    "    print(f\"  {video_type:<20} {filename} ({size:.1f} MB)\")\n",
    "\n",
    "print(f\"\\n📥 İndirme Talimatları:\")\nprint(f\"   # YOLO videosunu indir\")\nprint(f\"   scp root@your-vastai-ip:/workspace/line48/outputs/short_video_processed_*.mp4 ./yolo_result.mp4\")\nprint(f\"   \")\nprint(f\"   # Optimized SAM videosunu indir\")\nprint(f\"   scp root@your-vastai-ip:/workspace/line48/outputs/short_video_sam_optimized_*.mp4 ./sam_optimized_result.mp4\")"
   ]
  },
  {
   "cell_type": "markdown",
   "metadata": {},
   "source": [
    "## 10. Final GPU Durumu ve Özet"
   ]
  },
  {
   "cell_type": "code",
   "execution_count": null,
   "metadata": {},
   "outputs": [],
   "source": [
    "# Final GPU durumu\n",
    "print(\"🎮 FINAL GPU DURUMU\")\n",
    "print(\"=\" * 30)\n",
    "!nvidia-smi --query-gpu=utilization.gpu,memory.used,memory.total,temperature.gpu --format=csv\n",
    "\n",
    "# PyTorch memory temizle\n",
    "import torch\n",
    "if torch.cuda.is_available():\n",
    "    torch.cuda.empty_cache()\n",
    "    print(\"🧹 GPU cache temizlendi\")\n",
    "\n",
    "# Final özet\n",
    "print(f\"\\n🏁 FINAL ÖZET\")\n",
    "print(f\"=\" * 30)\n",
    "print(f\"✅ YOLO Analizi: {yolo_total} geçiş (~40s)\")\n",
    "print(f\"❌ Original SAM: {old_sam_total} geçiş (~224s) - Çok abartılı\")\nif opt_sam_total > 0:\n    print(f\"🎯 Optimized SAM: {opt_sam_total} geçiş (~{opt_sam_proc_time:.0f}s) - Makul\")\n    \n    if abs(opt_sam_total - yolo_total) / yolo_total < 0.5:\n        print(f\"\\n🏆 SONUÇ: Optimized SAM başarıyla YOLO seviyesine yaklaştı!\")\n    else:\n        print(f\"\\n🔧 SONUÇ: Optimized SAM iyileşti ama daha fazla tuning gerekli\")\nelse:\n    print(f\"❓ Optimized SAM: Sonuç alınamadı\")\n    \nprint(f\"\\n🎉 Analiz tamamlandı!\")"
   ]
  }
 ],
 "metadata": {
  "kernelspec": {
   "display_name": "Python 3",
   "language": "python",
   "name": "python3"
  },
  "language_info": {
   "codemirror_mode": {
    "name": "ipython",
    "version": 3
   },
   "file_extension": ".py",
   "mimetype": "text/x-python",
   "name": "python",
   "nbconvert_exporter": "python",
   "pygments_lexer": "ipython3",
   "version": "3.8.10"
  }
 },
 "nbformat": 4,
 "nbformat_minor": 4
}